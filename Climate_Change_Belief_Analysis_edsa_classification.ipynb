{
 "cells": [
  {
   "cell_type": "markdown",
   "metadata": {
    "papermill": {
     "duration": 0.01494,
     "end_time": "2020-10-17T21:37:46.147131",
     "exception": false,
     "start_time": "2020-10-17T21:37:46.132191",
     "status": "completed"
    },
    "tags": []
   },
   "source": [
    "## Import the necessary libraries"
   ]
  },
  {
   "cell_type": "code",
   "execution_count": 1,
   "metadata": {
    "_cell_guid": "79c7e3d0-c299-4dcb-8224-4455121ee9b0",
    "_uuid": "d629ff2d2480ee46fbb7e2d37f6b5fab8052498a",
    "execution": {
     "iopub.execute_input": "2020-10-17T21:37:46.185810Z",
     "iopub.status.busy": "2020-10-17T21:37:46.185115Z",
     "iopub.status.idle": "2020-10-17T21:37:48.406569Z",
     "shell.execute_reply": "2020-10-17T21:37:48.405787Z"
    },
    "papermill": {
     "duration": 2.245567,
     "end_time": "2020-10-17T21:37:48.406705",
     "exception": false,
     "start_time": "2020-10-17T21:37:46.161138",
     "status": "completed"
    },
    "tags": []
   },
   "outputs": [],
   "source": [
    "import pandas as pd\n",
    "import numpy as np\n",
    "import nltk\n",
    "import string\n",
    "import re\n",
    "from sklearn.feature_extraction.text import TfidfVectorizer\n",
    "from sklearn.linear_model import LogisticRegression\n",
    "from sklearn.naive_bayes import MultinomialNB\n",
    "from sklearn.ensemble import RandomForestClassifier, AdaBoostClassifier\n",
    "from sklearn.svm import LinearSVC\n",
    "from sklearn.model_selection import train_test_split\n",
    "from sklearn.naive_bayes import MultinomialNB\n",
    "from nltk.stem import WordNetLemmatizer\n",
    "from nltk.corpus import stopwords\n",
    "\n",
    "from sklearn.metrics import f1_score\n",
    "\n",
    "import seaborn as sns\n",
    "import matplotlib.pyplot as plt\n",
    "%matplotlib inline"
   ]
  },
  {
   "cell_type": "markdown",
   "metadata": {
    "papermill": {
     "duration": 0.013784,
     "end_time": "2020-10-17T21:37:48.435024",
     "exception": false,
     "start_time": "2020-10-17T21:37:48.421240",
     "status": "completed"
    },
    "tags": []
   },
   "source": [
    "## Load in your data from kaggle.  \n",
    "By working in a kaggle kernel, you can access the data directly from the competition, as well as make your submission without downloading your output file"
   ]
  },
  {
   "cell_type": "code",
   "execution_count": 2,
   "metadata": {
    "execution": {
     "iopub.execute_input": "2020-10-17T21:37:48.475695Z",
     "iopub.status.busy": "2020-10-17T21:37:48.474845Z",
     "iopub.status.idle": "2020-10-17T21:37:48.559301Z",
     "shell.execute_reply": "2020-10-17T21:37:48.558563Z"
    },
    "papermill": {
     "duration": 0.108524,
     "end_time": "2020-10-17T21:37:48.559436",
     "exception": false,
     "start_time": "2020-10-17T21:37:48.450912",
     "status": "completed"
    },
    "tags": []
   },
   "outputs": [],
   "source": [
    "train = pd.read_csv('../input/climate-change-edsa2020-21/train.csv')\n",
    "test = pd.read_csv('../input/climate-change-edsa2020-21/test.csv')"
   ]
  },
  {
   "cell_type": "raw",
   "metadata": {
    "papermill": {
     "duration": 0.014164,
     "end_time": "2020-10-17T21:37:48.588114",
     "exception": false,
     "start_time": "2020-10-17T21:37:48.573950",
     "status": "completed"
    },
    "tags": []
   },
   "source": [
    "train.sentiment.value_counts()"
   ]
  },
  {
   "cell_type": "code",
   "execution_count": 3,
   "metadata": {
    "execution": {
     "iopub.execute_input": "2020-10-17T21:37:48.633044Z",
     "iopub.status.busy": "2020-10-17T21:37:48.628178Z",
     "iopub.status.idle": "2020-10-17T21:37:48.637822Z",
     "shell.execute_reply": "2020-10-17T21:37:48.637241Z"
    },
    "papermill": {
     "duration": 0.035325,
     "end_time": "2020-10-17T21:37:48.637963",
     "exception": false,
     "start_time": "2020-10-17T21:37:48.602638",
     "status": "completed"
    },
    "tags": []
   },
   "outputs": [
    {
     "data": {
      "text/plain": [
       " 1    8530\n",
       " 2    3640\n",
       " 0    2353\n",
       "-1    1296\n",
       "Name: sentiment, dtype: int64"
      ]
     },
     "execution_count": 3,
     "metadata": {},
     "output_type": "execute_result"
    }
   ],
   "source": [
    "train.sentiment.value_counts()"
   ]
  },
  {
   "cell_type": "code",
   "execution_count": 4,
   "metadata": {
    "execution": {
     "iopub.execute_input": "2020-10-17T21:37:48.677332Z",
     "iopub.status.busy": "2020-10-17T21:37:48.676380Z",
     "iopub.status.idle": "2020-10-17T21:37:48.684269Z",
     "shell.execute_reply": "2020-10-17T21:37:48.684834Z"
    },
    "papermill": {
     "duration": 0.031791,
     "end_time": "2020-10-17T21:37:48.685048",
     "exception": false,
     "start_time": "2020-10-17T21:37:48.653257",
     "status": "completed"
    },
    "tags": []
   },
   "outputs": [
    {
     "data": {
      "text/html": [
       "<div>\n",
       "<style scoped>\n",
       "    .dataframe tbody tr th:only-of-type {\n",
       "        vertical-align: middle;\n",
       "    }\n",
       "\n",
       "    .dataframe tbody tr th {\n",
       "        vertical-align: top;\n",
       "    }\n",
       "\n",
       "    .dataframe thead th {\n",
       "        text-align: right;\n",
       "    }\n",
       "</style>\n",
       "<table border=\"1\" class=\"dataframe\">\n",
       "  <thead>\n",
       "    <tr style=\"text-align: right;\">\n",
       "      <th></th>\n",
       "      <th>sentiment</th>\n",
       "      <th>message</th>\n",
       "      <th>tweetid</th>\n",
       "    </tr>\n",
       "  </thead>\n",
       "  <tbody>\n",
       "    <tr>\n",
       "      <th>0</th>\n",
       "      <td>1</td>\n",
       "      <td>PolySciMajor EPA chief doesn't think carbon di...</td>\n",
       "      <td>625221</td>\n",
       "    </tr>\n",
       "    <tr>\n",
       "      <th>1</th>\n",
       "      <td>1</td>\n",
       "      <td>It's not like we lack evidence of anthropogeni...</td>\n",
       "      <td>126103</td>\n",
       "    </tr>\n",
       "    <tr>\n",
       "      <th>2</th>\n",
       "      <td>2</td>\n",
       "      <td>RT @RawStory: Researchers say we have three ye...</td>\n",
       "      <td>698562</td>\n",
       "    </tr>\n",
       "    <tr>\n",
       "      <th>3</th>\n",
       "      <td>1</td>\n",
       "      <td>#TodayinMaker# WIRED : 2016 was a pivotal year...</td>\n",
       "      <td>573736</td>\n",
       "    </tr>\n",
       "    <tr>\n",
       "      <th>4</th>\n",
       "      <td>1</td>\n",
       "      <td>RT @SoyNovioDeTodas: It's 2016, and a racist, ...</td>\n",
       "      <td>466954</td>\n",
       "    </tr>\n",
       "  </tbody>\n",
       "</table>\n",
       "</div>"
      ],
      "text/plain": [
       "   sentiment                                            message  tweetid\n",
       "0          1  PolySciMajor EPA chief doesn't think carbon di...   625221\n",
       "1          1  It's not like we lack evidence of anthropogeni...   126103\n",
       "2          2  RT @RawStory: Researchers say we have three ye...   698562\n",
       "3          1  #TodayinMaker# WIRED : 2016 was a pivotal year...   573736\n",
       "4          1  RT @SoyNovioDeTodas: It's 2016, and a racist, ...   466954"
      ]
     },
     "execution_count": 4,
     "metadata": {},
     "output_type": "execute_result"
    }
   ],
   "source": [
    "train.head()"
   ]
  },
  {
   "cell_type": "markdown",
   "metadata": {
    "papermill": {
     "duration": 0.016585,
     "end_time": "2020-10-17T21:37:48.717341",
     "exception": false,
     "start_time": "2020-10-17T21:37:48.700756",
     "status": "completed"
    },
    "tags": []
   },
   "source": [
    "## Splitting out the X variable from the target"
   ]
  },
  {
   "cell_type": "code",
   "execution_count": 5,
   "metadata": {
    "execution": {
     "iopub.execute_input": "2020-10-17T21:37:48.754064Z",
     "iopub.status.busy": "2020-10-17T21:37:48.753406Z",
     "iopub.status.idle": "2020-10-17T21:37:48.756121Z",
     "shell.execute_reply": "2020-10-17T21:37:48.756553Z"
    },
    "papermill": {
     "duration": 0.023877,
     "end_time": "2020-10-17T21:37:48.756705",
     "exception": false,
     "start_time": "2020-10-17T21:37:48.732828",
     "status": "completed"
    },
    "tags": []
   },
   "outputs": [],
   "source": [
    "y = train['sentiment']\n",
    "X = train['message']"
   ]
  },
  {
   "cell_type": "code",
   "execution_count": 6,
   "metadata": {
    "execution": {
     "iopub.execute_input": "2020-10-17T21:37:48.795839Z",
     "iopub.status.busy": "2020-10-17T21:37:48.794840Z",
     "iopub.status.idle": "2020-10-17T21:37:48.798625Z",
     "shell.execute_reply": "2020-10-17T21:37:48.798017Z"
    },
    "papermill": {
     "duration": 0.026501,
     "end_time": "2020-10-17T21:37:48.798741",
     "exception": false,
     "start_time": "2020-10-17T21:37:48.772240",
     "status": "completed"
    },
    "tags": []
   },
   "outputs": [],
   "source": [
    "from nltk.stem import PorterStemmer\n",
    "\n",
    "# init stemmer\n",
    "porter_stemmer=PorterStemmer()\n",
    "\n",
    "def my_cool_preprocessor(text):\n",
    "    \n",
    "    text=text.lower() \n",
    "    text=re.sub(\"\\\\W\",\" \",text) # remove special chars\n",
    "    text=re.sub(\"\\\\s+(in|the|all|for|and|on)\\\\s+\",\" _connector_ \",text) # normalize certain words\n",
    "    \n",
    "    # stem words\n",
    "    words=re.split(\"\\\\s+\",text)\n",
    "    stemmed_words=[porter_stemmer.stem(word=word) for word in words]\n",
    "    return ' '.join(stemmed_words)"
   ]
  },
  {
   "cell_type": "code",
   "execution_count": 7,
   "metadata": {
    "execution": {
     "iopub.execute_input": "2020-10-17T21:37:48.835805Z",
     "iopub.status.busy": "2020-10-17T21:37:48.835143Z",
     "iopub.status.idle": "2020-10-17T21:37:48.838139Z",
     "shell.execute_reply": "2020-10-17T21:37:48.837484Z"
    },
    "papermill": {
     "duration": 0.023663,
     "end_time": "2020-10-17T21:37:48.838263",
     "exception": false,
     "start_time": "2020-10-17T21:37:48.814600",
     "status": "completed"
    },
    "tags": []
   },
   "outputs": [],
   "source": [
    "def my_tokenizer(text):\n",
    "    # create a space between special characters \n",
    "    text=re.sub(\"(\\\\W)\",\" \\\\1 \",text)\n",
    "\n",
    "    # split based on whitespace\n",
    "    return re.split(\"\\\\s+\",text)"
   ]
  },
  {
   "cell_type": "markdown",
   "metadata": {
    "papermill": {
     "duration": 0.015379,
     "end_time": "2020-10-17T21:37:48.869227",
     "exception": false,
     "start_time": "2020-10-17T21:37:48.853848",
     "status": "completed"
    },
    "tags": []
   },
   "source": [
    "## Turning text into something your model can read"
   ]
  },
  {
   "cell_type": "code",
   "execution_count": 8,
   "metadata": {
    "execution": {
     "iopub.execute_input": "2020-10-17T21:37:48.920407Z",
     "iopub.status.busy": "2020-10-17T21:37:48.919686Z",
     "iopub.status.idle": "2020-10-17T21:37:57.754600Z",
     "shell.execute_reply": "2020-10-17T21:37:57.753950Z"
    },
    "papermill": {
     "duration": 8.869488,
     "end_time": "2020-10-17T21:37:57.754718",
     "exception": false,
     "start_time": "2020-10-17T21:37:48.885230",
     "status": "completed"
    },
    "tags": []
   },
   "outputs": [
    {
     "name": "stderr",
     "output_type": "stream",
     "text": [
      "/opt/conda/lib/python3.7/site-packages/sklearn/feature_extraction/text.py:386: UserWarning: Your stop_words may be inconsistent with your preprocessing. Tokenizing the stop words generated tokens ['abov', 'afterward', 'alon', 'alreadi', 'alway', 'ani', 'anoth', 'anyon', 'anyth', 'anywher', 'becam', 'becaus', 'becom', 'befor', 'besid', 'cri', 'describ', 'dure', 'els', 'elsewher', 'empti', 'everi', 'everyon', 'everyth', 'everywher', 'fifti', 'formerli', 'forti', 'ha', 'henc', 'hereaft', 'herebi', 'hi', 'howev', 'hundr', 'inde', 'latterli', 'mani', 'meanwhil', 'moreov', 'mostli', 'nobodi', 'noon', 'noth', 'nowher', 'onc', 'onli', 'otherwis', 'ourselv', 'perhap', 'pleas', 'seriou', 'sever', 'sinc', 'sincer', 'sixti', 'someon', 'someth', 'sometim', 'somewher', 'themselv', 'thenc', 'thereaft', 'therebi', 'therefor', 'thi', 'thu', 'togeth', 'twelv', 'twenti', 'veri', 'wa', 'whatev', 'whenc', 'whenev', 'wherea', 'whereaft', 'wherebi', 'wherev', 'whi', 'yourselv'] not in stop_words.\n",
      "  'stop_words.' % sorted(inconsistent))\n"
     ]
    },
    {
     "data": {
      "text/plain": [
       "''"
      ]
     },
     "execution_count": 8,
     "metadata": {},
     "output_type": "execute_result"
    }
   ],
   "source": [
    "vectorizer = TfidfVectorizer(ngram_range=(1,2),tokenizer=my_tokenizer, min_df=2,max_df=0.80,analyzer='word',smooth_idf=False, preprocessor=my_cool_preprocessor,stop_words=\"english\")\n",
    "X_vectorized = vectorizer.fit_transform(X)\n",
    ", \n",
    "#stop_words=\"english\",max_df=0.85, preprocessor=my_cool_preprocessor,\"all\",\"in\",\"the\",\"is\",\"and\"preprocessor=my_cool_preprocessor"
   ]
  },
  {
   "cell_type": "code",
   "execution_count": 9,
   "metadata": {
    "execution": {
     "iopub.execute_input": "2020-10-17T21:37:57.792007Z",
     "iopub.status.busy": "2020-10-17T21:37:57.791289Z",
     "iopub.status.idle": "2020-10-17T21:37:57.793668Z",
     "shell.execute_reply": "2020-10-17T21:37:57.794161Z"
    },
    "papermill": {
     "duration": 0.023225,
     "end_time": "2020-10-17T21:37:57.794315",
     "exception": false,
     "start_time": "2020-10-17T21:37:57.771090",
     "status": "completed"
    },
    "tags": []
   },
   "outputs": [],
   "source": [
    "#vectorizer.vocabulary_\n",
    "#vectorizer.stop_words_"
   ]
  },
  {
   "cell_type": "markdown",
   "metadata": {
    "papermill": {
     "duration": 0.016204,
     "end_time": "2020-10-17T21:37:57.827342",
     "exception": false,
     "start_time": "2020-10-17T21:37:57.811138",
     "status": "completed"
    },
    "tags": []
   },
   "source": [
    "## Splitting the training data into a training and validation set"
   ]
  },
  {
   "cell_type": "code",
   "execution_count": 10,
   "metadata": {
    "execution": {
     "iopub.execute_input": "2020-10-17T21:37:57.867575Z",
     "iopub.status.busy": "2020-10-17T21:37:57.866798Z",
     "iopub.status.idle": "2020-10-17T21:37:57.872917Z",
     "shell.execute_reply": "2020-10-17T21:37:57.872343Z"
    },
    "papermill": {
     "duration": 0.02942,
     "end_time": "2020-10-17T21:37:57.873035",
     "exception": false,
     "start_time": "2020-10-17T21:37:57.843615",
     "status": "completed"
    },
    "tags": []
   },
   "outputs": [],
   "source": [
    "X_train,X_val,y_train,y_val = train_test_split(X_vectorized,y,test_size=0.30,shuffle=True, random_state=25)"
   ]
  },
  {
   "cell_type": "markdown",
   "metadata": {
    "papermill": {
     "duration": 0.016369,
     "end_time": "2020-10-17T21:37:57.906119",
     "exception": false,
     "start_time": "2020-10-17T21:37:57.889750",
     "status": "completed"
    },
    "tags": []
   },
   "source": [
    "## Training the model and evaluating using the validation set "
   ]
  },
  {
   "cell_type": "code",
   "execution_count": 11,
   "metadata": {
    "execution": {
     "iopub.execute_input": "2020-10-17T21:37:57.945019Z",
     "iopub.status.busy": "2020-10-17T21:37:57.944317Z",
     "iopub.status.idle": "2020-10-17T21:37:58.299882Z",
     "shell.execute_reply": "2020-10-17T21:37:58.299015Z"
    },
    "papermill": {
     "duration": 0.377471,
     "end_time": "2020-10-17T21:37:58.300077",
     "exception": false,
     "start_time": "2020-10-17T21:37:57.922606",
     "status": "completed"
    },
    "tags": []
   },
   "outputs": [],
   "source": [
    "lsvc = LinearSVC()\n",
    "lsvc.fit(X_train, y_train)\n",
    "lsvc_pred = lsvc.predict(X_val)"
   ]
  },
  {
   "cell_type": "markdown",
   "metadata": {
    "papermill": {
     "duration": 0.018531,
     "end_time": "2020-10-17T21:37:58.342245",
     "exception": false,
     "start_time": "2020-10-17T21:37:58.323714",
     "status": "completed"
    },
    "tags": []
   },
   "source": [
    "## Checking the performance of our model on the validation set"
   ]
  },
  {
   "cell_type": "code",
   "execution_count": 12,
   "metadata": {
    "execution": {
     "iopub.execute_input": "2020-10-17T21:37:58.384946Z",
     "iopub.status.busy": "2020-10-17T21:37:58.383943Z",
     "iopub.status.idle": "2020-10-17T21:37:58.393533Z",
     "shell.execute_reply": "2020-10-17T21:37:58.392890Z"
    },
    "papermill": {
     "duration": 0.033053,
     "end_time": "2020-10-17T21:37:58.393658",
     "exception": false,
     "start_time": "2020-10-17T21:37:58.360605",
     "status": "completed"
    },
    "tags": []
   },
   "outputs": [
    {
     "data": {
      "text/plain": [
       "0.6488151457000704"
      ]
     },
     "execution_count": 12,
     "metadata": {},
     "output_type": "execute_result"
    }
   ],
   "source": [
    "f1_score(y_val, lsvc_pred, average=\"macro\")"
   ]
  },
  {
   "cell_type": "code",
   "execution_count": 13,
   "metadata": {
    "execution": {
     "iopub.execute_input": "2020-10-17T21:37:58.434478Z",
     "iopub.status.busy": "2020-10-17T21:37:58.433746Z",
     "iopub.status.idle": "2020-10-17T21:37:58.450852Z",
     "shell.execute_reply": "2020-10-17T21:37:58.449960Z"
    },
    "papermill": {
     "duration": 0.039508,
     "end_time": "2020-10-17T21:37:58.451037",
     "exception": false,
     "start_time": "2020-10-17T21:37:58.411529",
     "status": "completed"
    },
    "tags": []
   },
   "outputs": [
    {
     "name": "stdout",
     "output_type": "stream",
     "text": [
      "              precision    recall  f1-score   support\n",
      "\n",
      "          -1       0.71      0.43      0.53       386\n",
      "           0       0.59      0.43      0.49       713\n",
      "           1       0.76      0.86      0.81      2572\n",
      "           2       0.76      0.76      0.76      1075\n",
      "\n",
      "    accuracy                           0.74      4746\n",
      "   macro avg       0.70      0.62      0.65      4746\n",
      "weighted avg       0.73      0.74      0.73      4746\n",
      "\n"
     ]
    }
   ],
   "source": [
    "from sklearn import metrics\n",
    "\n",
    "print(metrics.classification_report(y_val, lsvc_pred))"
   ]
  },
  {
   "cell_type": "markdown",
   "metadata": {
    "papermill": {
     "duration": 0.01744,
     "end_time": "2020-10-17T21:37:58.487068",
     "exception": false,
     "start_time": "2020-10-17T21:37:58.469628",
     "status": "completed"
    },
    "tags": []
   },
   "source": [
    "## Getting our test set ready "
   ]
  },
  {
   "cell_type": "code",
   "execution_count": 14,
   "metadata": {
    "execution": {
     "iopub.execute_input": "2020-10-17T21:37:58.565973Z",
     "iopub.status.busy": "2020-10-17T21:37:58.561002Z",
     "iopub.status.idle": "2020-10-17T21:38:04.296764Z",
     "shell.execute_reply": "2020-10-17T21:38:04.296092Z"
    },
    "papermill": {
     "duration": 5.791498,
     "end_time": "2020-10-17T21:38:04.296901",
     "exception": false,
     "start_time": "2020-10-17T21:37:58.505403",
     "status": "completed"
    },
    "tags": []
   },
   "outputs": [],
   "source": [
    "testx = test['message']\n",
    "test_vect = vectorizer.transform(testx)"
   ]
  },
  {
   "cell_type": "markdown",
   "metadata": {
    "papermill": {
     "duration": 0.021529,
     "end_time": "2020-10-17T21:38:04.342361",
     "exception": false,
     "start_time": "2020-10-17T21:38:04.320832",
     "status": "completed"
    },
    "tags": []
   },
   "source": [
    "## Making predictions on the test set and adding a sentiment column to our original test df"
   ]
  },
  {
   "cell_type": "code",
   "execution_count": 15,
   "metadata": {
    "execution": {
     "iopub.execute_input": "2020-10-17T21:38:04.383372Z",
     "iopub.status.busy": "2020-10-17T21:38:04.382625Z",
     "iopub.status.idle": "2020-10-17T21:38:04.388410Z",
     "shell.execute_reply": "2020-10-17T21:38:04.387747Z"
    },
    "papermill": {
     "duration": 0.028113,
     "end_time": "2020-10-17T21:38:04.388522",
     "exception": false,
     "start_time": "2020-10-17T21:38:04.360409",
     "status": "completed"
    },
    "tags": []
   },
   "outputs": [],
   "source": [
    "y_pred = lsvc.predict(test_vect)"
   ]
  },
  {
   "cell_type": "code",
   "execution_count": 16,
   "metadata": {
    "execution": {
     "iopub.execute_input": "2020-10-17T21:38:04.429555Z",
     "iopub.status.busy": "2020-10-17T21:38:04.428894Z",
     "iopub.status.idle": "2020-10-17T21:38:04.431762Z",
     "shell.execute_reply": "2020-10-17T21:38:04.431145Z"
    },
    "papermill": {
     "duration": 0.025527,
     "end_time": "2020-10-17T21:38:04.431892",
     "exception": false,
     "start_time": "2020-10-17T21:38:04.406365",
     "status": "completed"
    },
    "tags": []
   },
   "outputs": [],
   "source": [
    "test['sentiment'] = y_pred"
   ]
  },
  {
   "cell_type": "code",
   "execution_count": 17,
   "metadata": {
    "execution": {
     "iopub.execute_input": "2020-10-17T21:38:04.477044Z",
     "iopub.status.busy": "2020-10-17T21:38:04.476140Z",
     "iopub.status.idle": "2020-10-17T21:38:04.480467Z",
     "shell.execute_reply": "2020-10-17T21:38:04.479842Z"
    },
    "papermill": {
     "duration": 0.030792,
     "end_time": "2020-10-17T21:38:04.480578",
     "exception": false,
     "start_time": "2020-10-17T21:38:04.449786",
     "status": "completed"
    },
    "tags": []
   },
   "outputs": [
    {
     "data": {
      "text/html": [
       "<div>\n",
       "<style scoped>\n",
       "    .dataframe tbody tr th:only-of-type {\n",
       "        vertical-align: middle;\n",
       "    }\n",
       "\n",
       "    .dataframe tbody tr th {\n",
       "        vertical-align: top;\n",
       "    }\n",
       "\n",
       "    .dataframe thead th {\n",
       "        text-align: right;\n",
       "    }\n",
       "</style>\n",
       "<table border=\"1\" class=\"dataframe\">\n",
       "  <thead>\n",
       "    <tr style=\"text-align: right;\">\n",
       "      <th></th>\n",
       "      <th>message</th>\n",
       "      <th>tweetid</th>\n",
       "      <th>sentiment</th>\n",
       "    </tr>\n",
       "  </thead>\n",
       "  <tbody>\n",
       "    <tr>\n",
       "      <th>0</th>\n",
       "      <td>Europe will now be looking to China to make su...</td>\n",
       "      <td>169760</td>\n",
       "      <td>1</td>\n",
       "    </tr>\n",
       "    <tr>\n",
       "      <th>1</th>\n",
       "      <td>Combine this with the polling of staffers re c...</td>\n",
       "      <td>35326</td>\n",
       "      <td>1</td>\n",
       "    </tr>\n",
       "    <tr>\n",
       "      <th>2</th>\n",
       "      <td>The scary, unimpeachable evidence that climate...</td>\n",
       "      <td>224985</td>\n",
       "      <td>1</td>\n",
       "    </tr>\n",
       "    <tr>\n",
       "      <th>3</th>\n",
       "      <td>@Karoli @morgfair @OsborneInk @dailykos \\nPuti...</td>\n",
       "      <td>476263</td>\n",
       "      <td>1</td>\n",
       "    </tr>\n",
       "    <tr>\n",
       "      <th>4</th>\n",
       "      <td>RT @FakeWillMoore: 'Female orgasms cause globa...</td>\n",
       "      <td>872928</td>\n",
       "      <td>0</td>\n",
       "    </tr>\n",
       "  </tbody>\n",
       "</table>\n",
       "</div>"
      ],
      "text/plain": [
       "                                             message  tweetid  sentiment\n",
       "0  Europe will now be looking to China to make su...   169760          1\n",
       "1  Combine this with the polling of staffers re c...    35326          1\n",
       "2  The scary, unimpeachable evidence that climate...   224985          1\n",
       "3  @Karoli @morgfair @OsborneInk @dailykos \\nPuti...   476263          1\n",
       "4  RT @FakeWillMoore: 'Female orgasms cause globa...   872928          0"
      ]
     },
     "execution_count": 17,
     "metadata": {},
     "output_type": "execute_result"
    }
   ],
   "source": [
    "test.head()"
   ]
  },
  {
   "cell_type": "markdown",
   "metadata": {
    "papermill": {
     "duration": 0.018007,
     "end_time": "2020-10-17T21:38:04.516903",
     "exception": false,
     "start_time": "2020-10-17T21:38:04.498896",
     "status": "completed"
    },
    "tags": []
   },
   "source": [
    "## Creating an output csv for submission"
   ]
  },
  {
   "cell_type": "code",
   "execution_count": 18,
   "metadata": {
    "execution": {
     "iopub.execute_input": "2020-10-17T21:38:04.561738Z",
     "iopub.status.busy": "2020-10-17T21:38:04.558728Z",
     "iopub.status.idle": "2020-10-17T21:38:04.842073Z",
     "shell.execute_reply": "2020-10-17T21:38:04.841317Z"
    },
    "papermill": {
     "duration": 0.306874,
     "end_time": "2020-10-17T21:38:04.842198",
     "exception": false,
     "start_time": "2020-10-17T21:38:04.535324",
     "status": "completed"
    },
    "tags": []
   },
   "outputs": [],
   "source": [
    "test[['tweetid','sentiment']].to_csv('testsubmission_8.csv', index=False)"
   ]
  }
 ],
 "metadata": {
  "kernelspec": {
   "display_name": "Python 3",
   "language": "python",
   "name": "python3"
  },
  "language_info": {
   "codemirror_mode": {
    "name": "ipython",
    "version": 3
   },
   "file_extension": ".py",
   "mimetype": "text/x-python",
   "name": "python",
   "nbconvert_exporter": "python",
   "pygments_lexer": "ipython3",
   "version": "3.7.6"
  },
  "papermill": {
   "duration": 23.70298,
   "end_time": "2020-10-17T21:38:04.968052",
   "environment_variables": {},
   "exception": null,
   "input_path": "__notebook__.ipynb",
   "output_path": "__notebook__.ipynb",
   "parameters": {},
   "start_time": "2020-10-17T21:37:41.265072",
   "version": "2.1.0"
  }
 },
 "nbformat": 4,
 "nbformat_minor": 4
}
